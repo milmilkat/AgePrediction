{
  "nbformat": 4,
  "nbformat_minor": 0,
  "metadata": {
    "colab": {
      "name": "Age Prediction.ipynb",
      "provenance": [],
      "collapsed_sections": []
    },
    "kernelspec": {
      "name": "python3",
      "display_name": "Python 3"
    }
  },
  "cells": [
    {
      "cell_type": "markdown",
      "metadata": {
        "id": "GqURsIiAJIJy",
        "colab_type": "text"
      },
      "source": [
        "# **Age Prediction Based on User Information**"
      ]
    },
    {
      "cell_type": "markdown",
      "metadata": {
        "id": "-YKIIYjbJY_t",
        "colab_type": "text"
      },
      "source": [
        "## **Intro**\n",
        "*The task is to predict the age of users based on their access behaviour*"
      ]
    },
    {
      "cell_type": "markdown",
      "metadata": {
        "id": "CNA7glP3KnzK",
        "colab_type": "text"
      },
      "source": [
        "## **Preparing**\n",
        "*Loading colab and libraries*"
      ]
    },
    {
      "cell_type": "code",
      "metadata": {
        "id": "KvI2WhCTjVp-",
        "colab_type": "code",
        "colab": {}
      },
      "source": [
        "from google.colab import drive\n",
        "drive.mount('/content/gdrive/', force_remount= True)"
      ],
      "execution_count": 0,
      "outputs": []
    },
    {
      "cell_type": "code",
      "metadata": {
        "id": "xL992R7RjaBE",
        "colab_type": "code",
        "colab": {}
      },
      "source": [
        "import os\n",
        "os.chdir('gdrive/My Drive/Colab Notebooks/Age Prediction')"
      ],
      "execution_count": 0,
      "outputs": []
    },
    {
      "cell_type": "code",
      "metadata": {
        "id": "Xxs93_pgjly2",
        "colab_type": "code",
        "colab": {}
      },
      "source": [
        "import matplotlib.pyplot as plt\n",
        "import pandas as pd\n",
        "import numpy as np\n",
        "\n",
        "from sklearn.model_selection import train_test_split\n",
        "from sklearn import preprocessing"
      ],
      "execution_count": 0,
      "outputs": []
    },
    {
      "cell_type": "markdown",
      "metadata": {
        "id": "pDDnJRssKTpa",
        "colab_type": "text"
      },
      "source": [
        "## **Data Exploration**"
      ]
    },
    {
      "cell_type": "code",
      "metadata": {
        "id": "pX52IC_SjosD",
        "colab_type": "code",
        "colab": {}
      },
      "source": [
        "data = pd.read_csv('data.csv')"
      ],
      "execution_count": 0,
      "outputs": []
    },
    {
      "cell_type": "markdown",
      "metadata": {
        "id": "g3q4kc7IiPU5",
        "colab_type": "text"
      },
      "source": [
        "*Dropping the default index since DataFrames have their own index*"
      ]
    },
    {
      "cell_type": "code",
      "metadata": {
        "id": "6_PJR10jhQe_",
        "colab_type": "code",
        "colab": {}
      },
      "source": [
        "data.drop(columns= ['Unnamed: 0'], axis=1, inplace= True)"
      ],
      "execution_count": 0,
      "outputs": []
    },
    {
      "cell_type": "markdown",
      "metadata": {
        "id": "Lz7djeqJibe-",
        "colab_type": "text"
      },
      "source": [
        "*Dropping duplicated values. The values getting dropped are those values that every feature in that row is repeated. This means, even if there is the same user uses different features, will make a meaningful row in the dataset. For example, a user having 60+ age but using Chrome or Chrome Mobile represents two different methods for the same age and therefore this row should be kept for analyses.*"
      ]
    },
    {
      "cell_type": "code",
      "metadata": {
        "id": "si0Y0fzHcejW",
        "colab_type": "code",
        "colab": {}
      },
      "source": [
        "data.drop_duplicates(keep = \"first\", inplace = True)\n",
        "data.reset_index(drop=True, inplace=True)"
      ],
      "execution_count": 0,
      "outputs": []
    },
    {
      "cell_type": "markdown",
      "metadata": {
        "id": "_LqMGc2wLbdl",
        "colab_type": "text"
      },
      "source": [
        "*The user column is not needed for model training; therefore, it is dropped.*"
      ]
    },
    {
      "cell_type": "code",
      "metadata": {
        "id": "57AiADBejsCr",
        "colab_type": "code",
        "colab": {}
      },
      "source": [
        "data.drop(columns= ['user'], axis=1, inplace= True)"
      ],
      "execution_count": 0,
      "outputs": []
    },
    {
      "cell_type": "markdown",
      "metadata": {
        "id": "CHYxXdFfLmhZ",
        "colab_type": "text"
      },
      "source": [
        "*Data consists of four feature columns including: Provider, Webpage, Browser, and City. The target is Age which is represented in 5 different age ranges. Each feature has different categories and all of the features are categorical features.*"
      ]
    },
    {
      "cell_type": "code",
      "metadata": {
        "id": "2CnTDodKKD4E",
        "colab_type": "code",
        "colab": {
          "base_uri": "https://localhost:8080/",
          "height": 173
        },
        "outputId": "0b71c56c-b495-49f6-fe18-8d181b46b674"
      },
      "source": [
        "data.describe()"
      ],
      "execution_count": 8,
      "outputs": [
        {
          "output_type": "execute_result",
          "data": {
            "text/html": [
              "<div>\n",
              "<style scoped>\n",
              "    .dataframe tbody tr th:only-of-type {\n",
              "        vertical-align: middle;\n",
              "    }\n",
              "\n",
              "    .dataframe tbody tr th {\n",
              "        vertical-align: top;\n",
              "    }\n",
              "\n",
              "    .dataframe thead th {\n",
              "        text-align: right;\n",
              "    }\n",
              "</style>\n",
              "<table border=\"1\" class=\"dataframe\">\n",
              "  <thead>\n",
              "    <tr style=\"text-align: right;\">\n",
              "      <th></th>\n",
              "      <th>provider</th>\n",
              "      <th>age</th>\n",
              "      <th>webpage</th>\n",
              "      <th>browser</th>\n",
              "      <th>city</th>\n",
              "    </tr>\n",
              "  </thead>\n",
              "  <tbody>\n",
              "    <tr>\n",
              "      <th>count</th>\n",
              "      <td>155160</td>\n",
              "      <td>155160</td>\n",
              "      <td>155160</td>\n",
              "      <td>155160</td>\n",
              "      <td>137827</td>\n",
              "    </tr>\n",
              "    <tr>\n",
              "      <th>unique</th>\n",
              "      <td>2</td>\n",
              "      <td>5</td>\n",
              "      <td>1194</td>\n",
              "      <td>37</td>\n",
              "      <td>8953</td>\n",
              "    </tr>\n",
              "    <tr>\n",
              "      <th>top</th>\n",
              "      <td>otto</td>\n",
              "      <td>30-39</td>\n",
              "      <td>www.fake-website-1.de</td>\n",
              "      <td>Chrome Mobile</td>\n",
              "      <td>berlin</td>\n",
              "    </tr>\n",
              "    <tr>\n",
              "      <th>freq</th>\n",
              "      <td>113647</td>\n",
              "      <td>47665</td>\n",
              "      <td>52379</td>\n",
              "      <td>42330</td>\n",
              "      <td>6161</td>\n",
              "    </tr>\n",
              "  </tbody>\n",
              "</table>\n",
              "</div>"
            ],
            "text/plain": [
              "       provider     age                webpage        browser    city\n",
              "count    155160  155160                 155160         155160  137827\n",
              "unique        2       5                   1194             37    8953\n",
              "top        otto   30-39  www.fake-website-1.de  Chrome Mobile  berlin\n",
              "freq     113647   47665                  52379          42330    6161"
            ]
          },
          "metadata": {
            "tags": []
          },
          "execution_count": 8
        }
      ]
    },
    {
      "cell_type": "markdown",
      "metadata": {
        "id": "gZd62V7yMJ2H",
        "colab_type": "text"
      },
      "source": [
        "*City is the only feature having 17333 null values. There are different strategies to treat the null values. In this particular case and in my opinion, not having value might have the meaning the user was not able to provide this information that can happen based on the age. Maybe a particular age group were not willing to share their city; therefore, these rows should not be dropped and have value. The null values are replaced with '-1' in order to treated as a category.*"
      ]
    },
    {
      "cell_type": "code",
      "metadata": {
        "id": "8jCLjroVNeai",
        "colab_type": "code",
        "colab": {}
      },
      "source": [
        "data.city.isna().sum()"
      ],
      "execution_count": 0,
      "outputs": []
    },
    {
      "cell_type": "code",
      "metadata": {
        "id": "i2ou72QyjuFf",
        "colab_type": "code",
        "colab": {}
      },
      "source": [
        "data.city.fillna(\"-1\",inplace= True)"
      ],
      "execution_count": 0,
      "outputs": []
    },
    {
      "cell_type": "markdown",
      "metadata": {
        "id": "VSV7rZyVO-ZT",
        "colab_type": "text"
      },
      "source": [
        "*Separating features from target*"
      ]
    },
    {
      "cell_type": "code",
      "metadata": {
        "id": "Ve8yD2HmjxLm",
        "colab_type": "code",
        "colab": {}
      },
      "source": [
        "data_y = pd.DataFrame(data['age'])\n",
        "data_X = data.drop(['age'],axis=1)"
      ],
      "execution_count": 0,
      "outputs": []
    },
    {
      "cell_type": "markdown",
      "metadata": {
        "id": "T4lMk72RN3Vy",
        "colab_type": "text"
      },
      "source": [
        "*The data was just simply labeled without OneHotEncoding. The reason is that if OneHotEncoding would have been considered for this problem, the number of features could get out of hand for model and it may overfit or underfit.*"
      ]
    },
    {
      "cell_type": "code",
      "metadata": {
        "id": "jtS5bS-Xj0JO",
        "colab_type": "code",
        "colab": {}
      },
      "source": [
        "le = preprocessing.LabelEncoder()\n",
        "data_y = data_y.apply(le.fit_transform)"
      ],
      "execution_count": 0,
      "outputs": []
    },
    {
      "cell_type": "code",
      "metadata": {
        "id": "bhztPA1lj76V",
        "colab_type": "code",
        "colab": {}
      },
      "source": [
        "le = preprocessing.LabelEncoder()\n",
        "data_X = data_X.apply(le.fit_transform)"
      ],
      "execution_count": 0,
      "outputs": []
    },
    {
      "cell_type": "code",
      "metadata": {
        "id": "TDLtobNtj_De",
        "colab_type": "code",
        "outputId": "252d20db-0286-4745-8101-7d7b6172e97e",
        "colab": {
          "base_uri": "https://localhost:8080/",
          "height": 204
        }
      },
      "source": [
        "data_X.head()"
      ],
      "execution_count": 14,
      "outputs": [
        {
          "output_type": "execute_result",
          "data": {
            "text/html": [
              "<div>\n",
              "<style scoped>\n",
              "    .dataframe tbody tr th:only-of-type {\n",
              "        vertical-align: middle;\n",
              "    }\n",
              "\n",
              "    .dataframe tbody tr th {\n",
              "        vertical-align: top;\n",
              "    }\n",
              "\n",
              "    .dataframe thead th {\n",
              "        text-align: right;\n",
              "    }\n",
              "</style>\n",
              "<table border=\"1\" class=\"dataframe\">\n",
              "  <thead>\n",
              "    <tr style=\"text-align: right;\">\n",
              "      <th></th>\n",
              "      <th>provider</th>\n",
              "      <th>webpage</th>\n",
              "      <th>browser</th>\n",
              "      <th>city</th>\n",
              "    </tr>\n",
              "  </thead>\n",
              "  <tbody>\n",
              "    <tr>\n",
              "      <th>0</th>\n",
              "      <td>0</td>\n",
              "      <td>0</td>\n",
              "      <td>4</td>\n",
              "      <td>1786</td>\n",
              "    </tr>\n",
              "    <tr>\n",
              "      <th>1</th>\n",
              "      <td>1</td>\n",
              "      <td>306</td>\n",
              "      <td>3</td>\n",
              "      <td>208</td>\n",
              "    </tr>\n",
              "    <tr>\n",
              "      <th>2</th>\n",
              "      <td>0</td>\n",
              "      <td>417</td>\n",
              "      <td>15</td>\n",
              "      <td>0</td>\n",
              "    </tr>\n",
              "    <tr>\n",
              "      <th>3</th>\n",
              "      <td>1</td>\n",
              "      <td>0</td>\n",
              "      <td>15</td>\n",
              "      <td>0</td>\n",
              "    </tr>\n",
              "    <tr>\n",
              "      <th>4</th>\n",
              "      <td>0</td>\n",
              "      <td>528</td>\n",
              "      <td>11</td>\n",
              "      <td>0</td>\n",
              "    </tr>\n",
              "  </tbody>\n",
              "</table>\n",
              "</div>"
            ],
            "text/plain": [
              "   provider  webpage  browser  city\n",
              "0         0        0        4  1786\n",
              "1         1      306        3   208\n",
              "2         0      417       15     0\n",
              "3         1        0       15     0\n",
              "4         0      528       11     0"
            ]
          },
          "metadata": {
            "tags": []
          },
          "execution_count": 14
        }
      ]
    },
    {
      "cell_type": "markdown",
      "metadata": {
        "id": "5s3tZ4nBPYiW",
        "colab_type": "text"
      },
      "source": [
        "# **Model Selection**\n",
        "*Separating train and test from the data to train and test models.*"
      ]
    },
    {
      "cell_type": "code",
      "metadata": {
        "id": "HsoS7SLykXd_",
        "colab_type": "code",
        "colab": {}
      },
      "source": [
        "X_train, X_test, y_train, y_test = train_test_split(data_X, data_y, test_size=0.33, random_state=0)"
      ],
      "execution_count": 0,
      "outputs": []
    },
    {
      "cell_type": "code",
      "metadata": {
        "id": "Ki5DUIoeoQBv",
        "colab_type": "code",
        "colab": {}
      },
      "source": [
        "from sklearn.tree import DecisionTreeClassifier\n",
        "from sklearn.ensemble import RandomForestClassifier, AdaBoostClassifier, GradientBoostingClassifier\n",
        "from sklearn.linear_model import LogisticRegression\n",
        "from sklearn.neural_network import MLPClassifier\n",
        "from sklearn.neighbors import KNeighborsClassifier\n",
        "from sklearn.naive_bayes import GaussianNB\n",
        "from sklearn.svm import SVC\n",
        "from xgboost import XGBClassifier"
      ],
      "execution_count": 0,
      "outputs": []
    },
    {
      "cell_type": "markdown",
      "metadata": {
        "id": "usLYRp5kPp0t",
        "colab_type": "text"
      },
      "source": [
        "*Including, training, and comparing 7 different classifiers including the famous XGBoost model. It can be seen in the end that XGBoost is having the best accuracy. Even though the accuracy of the model is not convincing enough, in the last step, the hyper-parameter tuning of the model is explained.*"
      ]
    },
    {
      "cell_type": "code",
      "metadata": {
        "id": "WtHb6qbfn2FJ",
        "colab_type": "code",
        "colab": {}
      },
      "source": [
        "classifiers = {\n",
        "    \"Decision Tree\": DecisionTreeClassifier(),                          # Accept default parameters\n",
        "    \"Random Forest\": RandomForestClassifier(),\n",
        "    'Gradient Boosting Classifier':GradientBoostingClassifier(),\n",
        "    'Adaptive Boosting Classifier':AdaBoostClassifier(),\n",
        "    'Logistic Regression':LogisticRegression(),\n",
        "    'K Nearest Neighbours':KNeighborsClassifier(8),\n",
        "    'Gaussian Naive Bayes Classifier':GaussianNB(),\n",
        "    'XGBoost': XGBClassifier()\n",
        "}"
      ],
      "execution_count": 0,
      "outputs": []
    },
    {
      "cell_type": "code",
      "metadata": {
        "id": "yKU69Vjjk1LD",
        "colab_type": "code",
        "colab": {}
      },
      "source": [
        "import warnings\n",
        "warnings.filterwarnings(\"ignore\")\n",
        "\n",
        "scores = list()\n",
        "\n",
        "for clf in classifiers.values():\n",
        "  clf.fit(X_train, y_train)\n",
        "  scores.append(clf.score(X_test, y_test))"
      ],
      "execution_count": 0,
      "outputs": []
    },
    {
      "cell_type": "code",
      "metadata": {
        "id": "JW5udcfao9V_",
        "colab_type": "code",
        "outputId": "e8d2c690-29d1-44cb-ddcd-3a0428efd271",
        "colab": {
          "base_uri": "https://localhost:8080/",
          "height": 472
        }
      },
      "source": [
        "plt.rcdefaults()\n",
        "fig, ax = plt.subplots()\n",
        "\n",
        "y_pos = np.arange(len(classifiers.keys()))\n",
        "\n",
        "ax.barh(y_pos, scores, align='center')\n",
        "ax.set_yticks(y_pos)\n",
        "ax.set_yticklabels(classifiers.keys())\n",
        "ax.invert_yaxis()  # labels read top-to-bottom\n",
        "ax.set_xlabel('Accuracy')\n",
        "ax.set_title('Comparison of Classifiers')\n",
        "\n",
        "plt.show()"
      ],
      "execution_count": 19,
      "outputs": [
        {
          "output_type": "display_data",
          "data": {
            "image/png": "[encoded data removed]",
            "text/plain": [
              "<Figure size 640x480 with 1 Axes>"
            ]
          },
          "metadata": {
            "tags": []
          }
        }
      ]
    },
    {
      "cell_type": "markdown",
      "metadata": {
        "id": "eKMoi6H5WGSr",
        "colab_type": "text"
      },
      "source": [
        "*Best accuracy achieved is no more than 50 percent which is not promising and must be improved. The rest of the notebook discusses that something is missing to achieve better accuracy.*"
      ]
    },
    {
      "cell_type": "markdown",
      "metadata": {
        "id": "bDxco5y7Qbdm",
        "colab_type": "text"
      },
      "source": [
        "# **Feature Analysis**\n",
        "*The features can be seen not giving much information about the target. Since the target is distributed fairly between different classes of the features, the model cannot have better accuracy. Therefore, the analysis in here will investigate if the features be removed, what would happen to the model. In the end, it can be seen that these number of features are not sufficient enough and there is a need for other features correlating with the target.*"
      ]
    },
    {
      "cell_type": "code",
      "metadata": {
        "id": "uSk-fo-E9208",
        "colab_type": "code",
        "colab": {}
      },
      "source": [
        "clf = XGBClassifier()\n",
        "clf.fit(X_train, y_train)\n",
        "clf.score(X_test, y_test)"
      ],
      "execution_count": 0,
      "outputs": []
    },
    {
      "cell_type": "code",
      "metadata": {
        "id": "0_ixvpqj-Ggo",
        "colab_type": "code",
        "colab": {}
      },
      "source": [
        "from sklearn.model_selection import cross_val_score\n",
        "accuracies = cross_val_score(estimator= clf, X= X_train, y= y_train, cv= 10)\n",
        "accuracies.mean()"
      ],
      "execution_count": 0,
      "outputs": []
    },
    {
      "cell_type": "code",
      "metadata": {
        "id": "wmR0hxv3D_vq",
        "colab_type": "code",
        "colab": {}
      },
      "source": [
        "data_X_1 = data_X.drop(['provider'],axis=1)\n",
        "data_X_2 = data_X.drop(['webpage'],axis=1)\n",
        "data_X_3 = data_X.drop(['browser'],axis=1)\n",
        "data_X_4 = data_X.drop(['city'],axis=1)\n",
        "\n",
        "data_list = [data_X_1, data_X_2, data_X_3, data_X_4]\n",
        "names= ['with all columns', 'without provider', 'without webpage', 'without browser', 'without city']\n",
        "accuracies_i = list()\n",
        "accuracies_i.append(accuracies.mean())\n",
        "\n",
        "clf = RandomForestClassifier()\n",
        "\n",
        "for data_i in data_list:\n",
        "  X_train_i, X_test_i, y_train_i, y_test_i = train_test_split(data_i, data_y, test_size=0.33, random_state=42)\n",
        "  clf.fit(X_train_i, y_train_i)\n",
        "  acc = clf.score(X_test_i, y_test_i)\n",
        "  accuracies_i.append(acc)\n",
        "\n",
        "accuracies_i"
      ],
      "execution_count": 0,
      "outputs": []
    },
    {
      "cell_type": "markdown",
      "metadata": {
        "id": "EZLrQIy8S6Fj",
        "colab_type": "text"
      },
      "source": [
        "*It can be seen from the following graph, removing features from the model does not affect the model much and the model still needs more features to be added to have better predictions.*"
      ]
    },
    {
      "cell_type": "code",
      "metadata": {
        "id": "zU_tN85DHJWd",
        "colab_type": "code",
        "colab": {
          "base_uri": "https://localhost:8080/",
          "height": 472
        },
        "outputId": "07742fee-7db2-4574-f2e3-76b4d3dce065"
      },
      "source": [
        "plt.rcdefaults()\n",
        "fig, ax = plt.subplots()\n",
        "\n",
        "y_pos = np.arange(len(names))\n",
        "\n",
        "ax.barh(y_pos, accuracies_i, align='center')\n",
        "ax.set_yticks(y_pos)\n",
        "ax.set_yticklabels(names)\n",
        "ax.invert_yaxis()  # labels read top-to-bottom\n",
        "ax.set_xlabel('Accuracy')\n",
        "ax.set_title('Correlation of Features')\n",
        "\n",
        "plt.show()"
      ],
      "execution_count": 23,
      "outputs": [
        {
          "output_type": "display_data",
          "data": {
            "image/png": "[encoded data removed]",
            "text/plain": [
              "<Figure size 640x480 with 1 Axes>"
            ]
          },
          "metadata": {
            "tags": []
          }
        }
      ]
    },
    {
      "cell_type": "markdown",
      "metadata": {
        "id": "cPa7RBxvSC1j",
        "colab_type": "text"
      },
      "source": [
        "# **Conclusion**\n",
        "*It can be seen the model will poorly predict the age of users based on the given information. It can also be seen that model shows imrpovement with any additional information. Therefore, in order to improve the model, more information about the users is needed.*"
      ]
    },
    {
      "cell_type": "markdown",
      "metadata": {
        "id": "gvU3vZ14SXvV",
        "colab_type": "text"
      },
      "source": [
        "# **Extra Step**\n",
        "*The hyper-parameters of XGBoost model can be tuned in order to slightly imrpove the model. The following code uses Grid Search to improve the model.*"
      ]
    },
    {
      "cell_type": "code",
      "metadata": {
        "id": "DP7A-NcdA47X",
        "colab_type": "code",
        "colab": {}
      },
      "source": [
        "param_grid = {\n",
        "  \"learning_rate\"    : [0.05, 0.10, 0.15, 0.20, 0.25, 0.30 ] ,\n",
        "  \"max_depth\"        : [ 3, 4, 5, 6, 8, 10, 12, 15],\n",
        "  \"min_child_weight\" : [ 1, 3, 5, 7 ],\n",
        "  \"gamma\"            : [ 0.0, 0.1, 0.2 , 0.3, 0.4 ],\n",
        "  \"colsample_bytree\" : [ 0.3, 0.4, 0.5 , 0.7 ] \n",
        "  }"
      ],
      "execution_count": 0,
      "outputs": []
    },
    {
      "cell_type": "code",
      "metadata": {
        "id": "tzQaotAc0iXD",
        "colab_type": "code",
        "colab": {}
      },
      "source": [
        "from sklearn.model_selection import GridSearchCV\n",
        "\n",
        "CV_rf = GridSearchCV(estimator=clf, param_grid=param_grid, cv= 10, scoring= 'accuracy', n_jobs= -1)\n",
        "CV_rf.fit(X_train, y_train)\n",
        "\n",
        "best_params = CV_rf.best_params_\n",
        "print(CV_rf.best_params_)\n",
        "\n",
        "best_accuracy = CV_rf.best_score_\n",
        "print(CV_rf.best_params_)"
      ],
      "execution_count": 0,
      "outputs": []
    }
  ]
}